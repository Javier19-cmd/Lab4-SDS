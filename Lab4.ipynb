{
 "cells": [
  {
   "cell_type": "code",
   "execution_count": 3,
   "metadata": {},
   "outputs": [
    {
     "ename": "PEFormatError",
     "evalue": "'DOS Header magic not found.'",
     "output_type": "error",
     "traceback": [
      "\u001b[1;31m---------------------------------------------------------------------------\u001b[0m",
      "\u001b[1;31mPEFormatError\u001b[0m                             Traceback (most recent call last)",
      "Cell \u001b[1;32mIn[3], line 14\u001b[0m\n\u001b[0;32m     11\u001b[0m \u001b[38;5;66;03m# Asegurarse de que es un archivo y no una subcarpeta\u001b[39;00m\n\u001b[0;32m     12\u001b[0m \u001b[38;5;28;01mif\u001b[39;00m os\u001b[38;5;241m.\u001b[39mpath\u001b[38;5;241m.\u001b[39misfile(ruta_archivo):\n\u001b[0;32m     13\u001b[0m     \u001b[38;5;66;03m# Cargar el archivo PE\u001b[39;00m\n\u001b[1;32m---> 14\u001b[0m     pe \u001b[38;5;241m=\u001b[39m \u001b[43mpefile\u001b[49m\u001b[38;5;241;43m.\u001b[39;49m\u001b[43mPE\u001b[49m\u001b[43m(\u001b[49m\u001b[43mruta_archivo\u001b[49m\u001b[43m)\u001b[49m\n\u001b[0;32m     16\u001b[0m     \u001b[38;5;66;03m# Información del PE Header\u001b[39;00m\n\u001b[0;32m     17\u001b[0m     \u001b[38;5;28mprint\u001b[39m(\u001b[38;5;124m\"\u001b[39m\u001b[38;5;124mNombre del archivo: \u001b[39m\u001b[38;5;124m\"\u001b[39m, pe\u001b[38;5;241m.\u001b[39mFILE_HEADER)\n",
      "File \u001b[1;32mc:\\Users\\sebas\\AppData\\Local\\Programs\\Python\\Python311\\Lib\\site-packages\\pefile.py:2895\u001b[0m, in \u001b[0;36mPE.__init__\u001b[1;34m(self, name, data, fast_load, max_symbol_exports, max_repeated_symbol)\u001b[0m\n\u001b[0;32m   2893\u001b[0m fast_load \u001b[38;5;241m=\u001b[39m fast_load \u001b[38;5;28;01mif\u001b[39;00m fast_load \u001b[38;5;129;01mis\u001b[39;00m \u001b[38;5;129;01mnot\u001b[39;00m \u001b[38;5;28;01mNone\u001b[39;00m \u001b[38;5;28;01melse\u001b[39;00m \u001b[38;5;28mglobals\u001b[39m()[\u001b[38;5;124m\"\u001b[39m\u001b[38;5;124mfast_load\u001b[39m\u001b[38;5;124m\"\u001b[39m]\n\u001b[0;32m   2894\u001b[0m \u001b[38;5;28;01mtry\u001b[39;00m:\n\u001b[1;32m-> 2895\u001b[0m     \u001b[38;5;28;43mself\u001b[39;49m\u001b[38;5;241;43m.\u001b[39;49m\u001b[43m__parse__\u001b[49m\u001b[43m(\u001b[49m\u001b[43mname\u001b[49m\u001b[43m,\u001b[49m\u001b[43m \u001b[49m\u001b[43mdata\u001b[49m\u001b[43m,\u001b[49m\u001b[43m \u001b[49m\u001b[43mfast_load\u001b[49m\u001b[43m)\u001b[49m\n\u001b[0;32m   2896\u001b[0m \u001b[38;5;28;01mexcept\u001b[39;00m:\n\u001b[0;32m   2897\u001b[0m     \u001b[38;5;28mself\u001b[39m\u001b[38;5;241m.\u001b[39mclose()\n",
      "File \u001b[1;32mc:\\Users\\sebas\\AppData\\Local\\Programs\\Python\\Python311\\Lib\\site-packages\\pefile.py:3031\u001b[0m, in \u001b[0;36mPE.__parse__\u001b[1;34m(self, fname, data, fast_load)\u001b[0m\n\u001b[0;32m   3029\u001b[0m     \u001b[38;5;28;01mraise\u001b[39;00m PEFormatError(\u001b[38;5;124m\"\u001b[39m\u001b[38;5;124mProbably a ZM Executable (not a PE file).\u001b[39m\u001b[38;5;124m\"\u001b[39m)\n\u001b[0;32m   3030\u001b[0m \u001b[38;5;28;01mif\u001b[39;00m \u001b[38;5;129;01mnot\u001b[39;00m \u001b[38;5;28mself\u001b[39m\u001b[38;5;241m.\u001b[39mDOS_HEADER \u001b[38;5;129;01mor\u001b[39;00m \u001b[38;5;28mself\u001b[39m\u001b[38;5;241m.\u001b[39mDOS_HEADER\u001b[38;5;241m.\u001b[39me_magic \u001b[38;5;241m!=\u001b[39m IMAGE_DOS_SIGNATURE:\n\u001b[1;32m-> 3031\u001b[0m     \u001b[38;5;28;01mraise\u001b[39;00m PEFormatError(\u001b[38;5;124m\"\u001b[39m\u001b[38;5;124mDOS Header magic not found.\u001b[39m\u001b[38;5;124m\"\u001b[39m)\n\u001b[0;32m   3033\u001b[0m \u001b[38;5;66;03m# OC Patch:\u001b[39;00m\n\u001b[0;32m   3034\u001b[0m \u001b[38;5;66;03m# Check for sane value in e_lfanew\u001b[39;00m\n\u001b[0;32m   3035\u001b[0m \u001b[38;5;66;03m#\u001b[39;00m\n\u001b[0;32m   3036\u001b[0m \u001b[38;5;28;01mif\u001b[39;00m \u001b[38;5;28mself\u001b[39m\u001b[38;5;241m.\u001b[39mDOS_HEADER\u001b[38;5;241m.\u001b[39me_lfanew \u001b[38;5;241m>\u001b[39m \u001b[38;5;28mlen\u001b[39m(\u001b[38;5;28mself\u001b[39m\u001b[38;5;241m.\u001b[39m__data__):\n",
      "\u001b[1;31mPEFormatError\u001b[0m: 'DOS Header magic not found.'"
     ]
    }
   ],
   "source": [
    "import pefile\n",
    "import os\n",
    "\n",
    "# Ruta a la carpeta que contiene los archivos de malware\n",
    "ruta_carpeta = './MALWR/MALWR/'\n",
    "\n",
    "# Iterar sobre cada archivo en la carpeta\n",
    "for nombre_archivo in os.listdir(ruta_carpeta):\n",
    "    ruta_archivo = os.path.join(ruta_carpeta, nombre_archivo)\n",
    "\n",
    "    # Asegurarse de que es un archivo y no una subcarpeta\n",
    "    if os.path.isfile(ruta_archivo):\n",
    "        # Cargar el archivo PE\n",
    "        pe = pefile.PE(ruta_archivo)\n",
    "\n",
    "        # Información del PE Header\n",
    "        print(\"Nombre del archivo: \", pe.FILE_HEADER)\n",
    "\n",
    "        # Nombres de las secciones\n",
    "        for section in pe.sections:\n",
    "            print(section.Name.decode().rstrip('\\x00'))\n",
    "\n",
    "        # Llamadas a funciones\n",
    "        for entry in pe.DIRECTORY_ENTRY_IMPORT:\n",
    "            print('DLL: ', entry.dll.decode())\n",
    "            for imp in entry.imports:\n",
    "                print('\\t', hex(imp.address), imp.name.decode() if imp.name else '')"
   ]
  }
 ],
 "metadata": {
  "kernelspec": {
   "display_name": "Python 3",
   "language": "python",
   "name": "python3"
  },
  "language_info": {
   "codemirror_mode": {
    "name": "ipython",
    "version": 3
   },
   "file_extension": ".py",
   "mimetype": "text/x-python",
   "name": "python",
   "nbconvert_exporter": "python",
   "pygments_lexer": "ipython3",
   "version": "3.11.3"
  }
 },
 "nbformat": 4,
 "nbformat_minor": 2
}
